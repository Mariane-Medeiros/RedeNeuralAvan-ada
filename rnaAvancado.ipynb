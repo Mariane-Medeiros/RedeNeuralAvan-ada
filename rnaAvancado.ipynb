{
 "cells": [
  {
   "cell_type": "code",
   "execution_count": 8,
   "id": "c3417439-390d-4710-9c0f-c291fc361633",
   "metadata": {},
   "outputs": [],
   "source": [
    "import numpy as np\n",
    "import matplotlib.pyplot as plt\n",
    "import pickle\n",
    "import pandas as pd\n",
    "import sklearn.datasets as datasets"
   ]
  },
  {
   "cell_type": "markdown",
   "id": "59b23710-e131-46f7-919c-d0ec6d24ca40",
   "metadata": {
    "jp-MarkdownHeadingCollapsed": true
   },
   "source": [
    "<h1>Dataset</h1>"
   ]
  },
  {
   "cell_type": "code",
   "execution_count": 20,
   "id": "77bdacda-6c1e-4032-979d-5e6a987e6a24",
   "metadata": {},
   "outputs": [],
   "source": [
    "x, y = datasets.make_moons(n_samples = 500, noise = 0.05)"
   ]
  },
  {
   "cell_type": "code",
   "execution_count": 27,
   "id": "a1088c99-a948-419d-b69e-e42e0a8a8f28",
   "metadata": {},
   "outputs": [
    {
     "name": "stdout",
     "output_type": "stream",
     "text": [
      "x.shape =(500, 2), y.shape =(500,)\n"
     ]
    }
   ],
   "source": [
    "print(f'{x.shape =}, {y.shape =}')"
   ]
  },
  {
   "cell_type": "code",
   "execution_count": 32,
   "id": "654087a6-0c6d-4e2e-8918-ef8ac46dbee6",
   "metadata": {},
   "outputs": [
    {
     "data": {
      "text/html": [
       "<div>\n",
       "<style scoped>\n",
       "    .dataframe tbody tr th:only-of-type {\n",
       "        vertical-align: middle;\n",
       "    }\n",
       "\n",
       "    .dataframe tbody tr th {\n",
       "        vertical-align: top;\n",
       "    }\n",
       "\n",
       "    .dataframe thead th {\n",
       "        text-align: right;\n",
       "    }\n",
       "</style>\n",
       "<table border=\"1\" class=\"dataframe\">\n",
       "  <thead>\n",
       "    <tr style=\"text-align: right;\">\n",
       "      <th></th>\n",
       "      <th>x_1</th>\n",
       "      <th>x_2</th>\n",
       "      <th>y</th>\n",
       "    </tr>\n",
       "  </thead>\n",
       "  <tbody>\n",
       "    <tr>\n",
       "      <th>0</th>\n",
       "      <td>1.456090</td>\n",
       "      <td>-0.410413</td>\n",
       "      <td>1</td>\n",
       "    </tr>\n",
       "    <tr>\n",
       "      <th>1</th>\n",
       "      <td>0.865735</td>\n",
       "      <td>-0.452994</td>\n",
       "      <td>1</td>\n",
       "    </tr>\n",
       "    <tr>\n",
       "      <th>2</th>\n",
       "      <td>0.796303</td>\n",
       "      <td>0.767482</td>\n",
       "      <td>0</td>\n",
       "    </tr>\n",
       "    <tr>\n",
       "      <th>3</th>\n",
       "      <td>1.417737</td>\n",
       "      <td>-0.451732</td>\n",
       "      <td>1</td>\n",
       "    </tr>\n",
       "    <tr>\n",
       "      <th>4</th>\n",
       "      <td>0.351394</td>\n",
       "      <td>-0.324352</td>\n",
       "      <td>1</td>\n",
       "    </tr>\n",
       "    <tr>\n",
       "      <th>...</th>\n",
       "      <td>...</td>\n",
       "      <td>...</td>\n",
       "      <td>...</td>\n",
       "    </tr>\n",
       "    <tr>\n",
       "      <th>495</th>\n",
       "      <td>0.091276</td>\n",
       "      <td>0.059541</td>\n",
       "      <td>1</td>\n",
       "    </tr>\n",
       "    <tr>\n",
       "      <th>496</th>\n",
       "      <td>-0.855228</td>\n",
       "      <td>0.523323</td>\n",
       "      <td>0</td>\n",
       "    </tr>\n",
       "    <tr>\n",
       "      <th>497</th>\n",
       "      <td>0.715045</td>\n",
       "      <td>0.526362</td>\n",
       "      <td>0</td>\n",
       "    </tr>\n",
       "    <tr>\n",
       "      <th>498</th>\n",
       "      <td>0.912474</td>\n",
       "      <td>0.274207</td>\n",
       "      <td>0</td>\n",
       "    </tr>\n",
       "    <tr>\n",
       "      <th>499</th>\n",
       "      <td>0.281337</td>\n",
       "      <td>0.937084</td>\n",
       "      <td>0</td>\n",
       "    </tr>\n",
       "  </tbody>\n",
       "</table>\n",
       "<p>500 rows × 3 columns</p>\n",
       "</div>"
      ],
      "text/plain": [
       "          x_1       x_2  y\n",
       "0    1.456090 -0.410413  1\n",
       "1    0.865735 -0.452994  1\n",
       "2    0.796303  0.767482  0\n",
       "3    1.417737 -0.451732  1\n",
       "4    0.351394 -0.324352  1\n",
       "..        ...       ... ..\n",
       "495  0.091276  0.059541  1\n",
       "496 -0.855228  0.523323  0\n",
       "497  0.715045  0.526362  0\n",
       "498  0.912474  0.274207  0\n",
       "499  0.281337  0.937084  0\n",
       "\n",
       "[500 rows x 3 columns]"
      ]
     },
     "execution_count": 32,
     "metadata": {},
     "output_type": "execute_result"
    }
   ],
   "source": [
    "pd.DataFrame({'x_1': x[:,0], 'x_2': x[:,1], 'y': y}) #ta pegando todas as linhas com : na coluna 0"
   ]
  },
  {
   "cell_type": "code",
   "execution_count": 24,
   "id": "287868c5-ffea-46c0-95cd-6f274d107ca6",
   "metadata": {},
   "outputs": [
    {
     "name": "stdout",
     "output_type": "stream",
     "text": [
      "Label: 0\t Counts: 250\n",
      "Label: 1\t Counts: 250\n"
     ]
    }
   ],
   "source": [
    "unique = np.unique(y, return_counts = True)\n",
    "for label,qt_label in zip(unique[0], unique[1]): #zip combina 2 ou mais variaveis em conjuntos, primeiro com primeiro, segundo com segundo...\n",
    "    print(f'Label: {label}\\t Counts: {qt_label}')"
   ]
  },
  {
   "cell_type": "code",
   "execution_count": null,
   "id": "65c11d88-5c5a-4f14-bc7f-5a751e709f05",
   "metadata": {},
   "outputs": [],
   "source": [
    "plt.scatter(x[:, 0], x[:,1],c = y, s = 50, alpha = 0.5, cmap = 'cool') #criando grafico pontilhado, primeiro parametro eixo x, segundo parametro eixo y, terceiro parametro são as cores de acordo com as classes y,cmap é as cores dos pontos ,alpha é a transparencia dos pontos"
   ]
  },
  {
   "cell_type": "markdown",
   "id": "31979c8f-b048-43ff-b63e-06d344027160",
   "metadata": {},
   "source": [
    "<h1>Modelo</h1>"
   ]
  },
  {
   "cell_type": "markdown",
   "id": "f52a73dd-f31f-4334-9db1-6393c1961c15",
   "metadata": {},
   "source": [
    "<ul>\n",
    "    <li>Inicialização dos pesos e bias</li>\n",
    "    <li>Feedfoward</li>\n",
    "    <li>Calculo da perda</li>\n",
    "    <li>Backpropagation</li>\n",
    "    <li>Fit</li>\n",
    "</ul>"
   ]
  },
  {
   "cell_type": "code",
   "execution_count": 26,
   "id": "98b68a93-4e83-42ec-9e81-fff7033b727e",
   "metadata": {},
   "outputs": [],
   "source": [
    "class NnModel:\n",
    "    def __init__(self, x: np.ndarray, y:np.ndarray,, hidden_neurons: int = 10, output_neurons: int = 2): #x e y sao arrays do np, por isso essa tipagem\n",
    "        self.x = x\n",
    "        self.y = y\n",
    "        self.hidden_neurons = hidden_neurons\n",
    "        self.output_neurons = output_neurons\n",
    "        self.input_neurons = self.x.shape[1] #x.shape[0] -> numero de linhas x.shape[1] -> numerod e colunas\n",
    "\n",
    "        # Inicializa os pesos e bias\n",
    "        self.W1 = np.random.randn()\n",
    "        \n",
    "    def forward(self):\n",
    "        pass\n",
    "\n",
    "    def loss(self):\n",
    "        pass\n",
    "\n",
    "    def backpropagation(self):\n",
    "        pass\n",
    "\n",
    "    def fit(self):\n",
    "        pass"
   ]
  }
 ],
 "metadata": {
  "kernelspec": {
   "display_name": "Python 3 (ipykernel)",
   "language": "python",
   "name": "python3"
  },
  "language_info": {
   "codemirror_mode": {
    "name": "ipython",
    "version": 3
   },
   "file_extension": ".py",
   "mimetype": "text/x-python",
   "name": "python",
   "nbconvert_exporter": "python",
   "pygments_lexer": "ipython3",
   "version": "3.12.7"
  }
 },
 "nbformat": 4,
 "nbformat_minor": 5
}
